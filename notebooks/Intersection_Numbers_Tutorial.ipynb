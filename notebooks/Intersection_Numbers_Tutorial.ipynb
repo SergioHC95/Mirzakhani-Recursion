{
 "cells": [
  {
   "cell_type": "markdown",
   "id": "2f19db1f",
   "metadata": {},
   "source": [
    "# Intersection Numbers: One-Stop Guide\n",
    "\n",
    "This notebook validates the core API and demonstrates how to compute intersection numbers $\\langle \\tau_{d_1}\\cdots\\tau_{d_n}\\rangle_g$ using the normalized recursion table.\n",
    "\n",
    "**Contents**\n",
    "1. Package import and cache\n",
    "2. Quick API tests\n",
    "3. Building the recursion table (`iterate`)\n",
    "4. Converting between $X$ (intersection numbers) and $R_X$ (normalized)\n",
    "5. Examples: genus 0 and genus 1\n",
    "6. How to query arbitrary tuples $(g,n,\\alpha)$"
   ]
  },
  {
   "cell_type": "code",
   "execution_count": 2,
   "id": "52ecf07c",
   "metadata": {},
   "outputs": [],
   "source": [
    "%load_ext autoreload\n",
    "%autoreload 2"
   ]
  },
  {
   "cell_type": "code",
   "execution_count": 4,
   "id": "fc8296cf",
   "metadata": {},
   "outputs": [],
   "source": [
    "import sys\n",
    "from pathlib import Path\n",
    "try:\n",
    "    import wp\n",
    "except ModuleNotFoundError:\n",
    "    sys.path.insert(0, str(Path.cwd() / \"src\"))\n",
    "    import wp"
   ]
  },
  {
   "cell_type": "markdown",
   "id": "8c66678d",
   "metadata": {},
   "source": [
    "## 1) Quick API tests"
   ]
  },
  {
   "cell_type": "code",
   "execution_count": null,
   "id": "3ed1b38c",
   "metadata": {},
   "outputs": [
    {
     "name": "stdout",
     "output_type": "stream",
     "text": [
      "Basic API checks passed.\n"
     ]
    }
   ],
   "source": [
    "from fractions import Fraction\n",
    "from wp.compute       import degree, is_stable\n",
    "from wp.normalization import rx_from_x, x_from_rx\n",
    "\n",
    "# Stability and degree\n",
    "assert degree(0, 3) == 0 and is_stable(0, 3)\n",
    "assert degree(1, 1) == 1 and is_stable(1, 1)\n",
    "\n",
    "# Normalization round-trip on (g=0, n=4)\n",
    "g, n, alpha = 0, 4, (1, 0, 0, 0)\n",
    "X      = Fraction(1, 1)\n",
    "RX     = rx_from_x(g, n, alpha, X)\n",
    "X_back = x_from_rx(g, n, alpha, RX)\n",
    "assert X_back == X\n",
    "\n",
    "print(\"Basic API checks passed.\")\n"
   ]
  },
  {
   "cell_type": "markdown",
   "id": "66a5ef0d",
   "metadata": {},
   "source": [
    "## 2) Build / extend the recursion table\n",
    "The function `wp.iterate(nmax, cache_path, max_workers, by_degree=True)` fills a cache of normalized values $R_X(g,n,\\alpha)$ for all stable pairs with $3g-3+n\\le n_{\\text{max}}$.\n",
    "Re-running is incremental; previously computed entries are reused."
   ]
  },
  {
   "cell_type": "code",
   "execution_count": 5,
   "id": "865e991e",
   "metadata": {},
   "outputs": [
    {
     "data": {
      "text/plain": [
       "197172"
      ]
     },
     "execution_count": 5,
     "metadata": {},
     "output_type": "execute_result"
    }
   ],
   "source": [
    "ROOT = Path.cwd().parent          # repo/\n",
    "cache_path = ROOT / \"data\" / \"wp_rx.pkl\"\n",
    "cache_path.parent.mkdir(parents=True, exist_ok=True)\n",
    "\n",
    "rx = wp.iterate(dmax=4, cache_path=str(cache_path), max_workers=None)\n",
    "len(rx)"
   ]
  },
  {
   "cell_type": "markdown",
   "id": "2bea7f94",
   "metadata": {},
   "source": [
    "## 3) Compute intersection numbers\n",
    "We represent a multi-index by `alpha = (d1, d2, ..., dn)` sorted in **non-increasing** order.\n",
    "Given the normalized value `RX = rx[(g,n,alpha)]`, convert to the intersection number via `wp.x_from_rx(g,n,alpha,RX)`."
   ]
  },
  {
   "cell_type": "code",
   "execution_count": 7,
   "id": "22bf0354",
   "metadata": {},
   "outputs": [
    {
     "name": "stdout",
     "output_type": "stream",
     "text": [
      "g=0, n=4, <tau_1 tau_0^3> = 1\n",
      "g=1, n=1, <tau_1> = 1/24\n"
     ]
    }
   ],
   "source": [
    "def intersection_number(g:int, n:int, alpha:tuple[int,...], rx_table:dict):\n",
    "    alpha = tuple(sorted(alpha, reverse=True))\n",
    "    RX = rx_table.get((g,n,alpha))\n",
    "    if RX is None:\n",
    "        raise KeyError(f'Entry not found for (g={g}, n={n}, alpha={alpha}). Run iterate with larger nmax.')\n",
    "    return wp.x_from_rx(g,n,alpha,RX)\n",
    "\n",
    "# Genus 0 sanity: <tau_1 tau_0^3> = 1\n",
    "val_g0 = intersection_number(0,4,(1,0,0,0), rx)\n",
    "print('g=0, n=4, <tau_1 tau_0^3> =', val_g0)\n",
    "\n",
    "# Genus 1 sanity: <tau_1> = 1/24\n",
    "val_g1 = intersection_number(1,1,(1,), rx)\n",
    "print('g=1, n=1, <tau_1> =', val_g1)"
   ]
  },
  {
   "cell_type": "markdown",
   "id": "0815ed8e",
   "metadata": {},
   "source": [
    "## 4) Query helper\n",
    "Use the convenience function below to request arbitrary tuples $(g,n,\\alpha)$."
   ]
  },
  {
   "cell_type": "code",
   "execution_count": 13,
   "id": "2acf74f8",
   "metadata": {},
   "outputs": [
    {
     "name": "stdout",
     "output_type": "stream",
     "text": [
      "Request: g=0, n=5, alpha=(2, 0, 0, 0, 0)\n",
      "Intersection number = 1\n",
      "Request: g=1, n=1, alpha=(0,)\n",
      "Intersection number = 1/24\n"
     ]
    }
   ],
   "source": [
    "def query(g:int, alpha:tuple[int,...]):\n",
    "    n = len(alpha)\n",
    "    print(f'Request: g={g}, n={n}, alpha={tuple(sorted(alpha, reverse=True))}')\n",
    "    X = intersection_number(g, n, alpha, rx)\n",
    "    print('Intersection number =', X)\n",
    "\n",
    "query(0, (2,0,0,0,0))  # <tau_2 tau_0^4> = 1 (genus 0)\n",
    "query(1, (0,))         # <tau_0> = 1/24 (via normalization seeds)"
   ]
  },
  {
   "cell_type": "code",
   "execution_count": null,
   "id": "64a6a2f2",
   "metadata": {},
   "outputs": [],
   "source": []
  }
 ],
 "metadata": {
  "kernelspec": {
   "display_name": "base",
   "language": "python",
   "name": "python3"
  },
  "language_info": {
   "codemirror_mode": {
    "name": "ipython",
    "version": 3
   },
   "file_extension": ".py",
   "mimetype": "text/x-python",
   "name": "python",
   "nbconvert_exporter": "python",
   "pygments_lexer": "ipython3",
   "version": "3.12.3"
  }
 },
 "nbformat": 4,
 "nbformat_minor": 5
}
