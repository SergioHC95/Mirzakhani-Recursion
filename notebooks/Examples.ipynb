{
 "cells": [
  {
   "cell_type": "code",
   "execution_count": 1,
   "id": "5e37bea2",
   "metadata": {},
   "outputs": [
    {
     "name": "stdout",
     "output_type": "stream",
     "text": [
      "0\n"
     ]
    }
   ],
   "source": [
    "from wp_recursion.utils import intersection_number\n",
    "# Compute ⟨τ₂ τ₁ τ₁ τ₀⟩₁, auto-memoizing into \"wp_rx.pkl\"\n",
    "X = intersection_number(1, 5, (1, 1, 0, 0, 0))\n",
    "print(X)"
   ]
  },
  {
   "cell_type": "code",
   "execution_count": 2,
   "id": "c76b9c81",
   "metadata": {},
   "outputs": [
    {
     "name": "stdout",
     "output_type": "stream",
     "text": [
      "(5, 0, 0, 0, 0) -> 1/24\n",
      "(4, 1, 0, 0, 0) -> 1/6\n",
      "(3, 2, 0, 0, 0) -> 7/24\n",
      "(3, 1, 1, 0, 0) -> 1/2\n",
      "(2, 2, 1, 0, 0) -> 2/3\n",
      "(2, 1, 1, 1, 0) -> 1\n",
      "(1, 1, 1, 1, 1) -> 1\n"
     ]
    }
   ],
   "source": [
    "from wp_recursion.utils import allowed_alphas\n",
    "\n",
    "# For genus 1, n=5\n",
    "for alpha in allowed_alphas(1, 5):\n",
    "    print(f\"{alpha} -> {intersection_number(1, 5, alpha)}\")"
   ]
  },
  {
   "cell_type": "code",
   "execution_count": 3,
   "id": "0c1ffd26",
   "metadata": {},
   "outputs": [
    {
     "data": {
      "text/plain": [
       "Fraction(483840, 1)"
      ]
     },
     "execution_count": 3,
     "metadata": {},
     "output_type": "execute_result"
    }
   ],
   "source": [
    "from wp_recursion.normalization import rx_from_x\n",
    "rx_from_x(1, 5, (3, 1, 1, 0, 0), 1/2)"
   ]
  },
  {
   "cell_type": "code",
   "execution_count": 4,
   "id": "2b7cc1f2",
   "metadata": {},
   "outputs": [
    {
     "name": "stdout",
     "output_type": "stream",
     "text": [
      "(2,1,(2,)) --> (1,2,(2, 0))\n",
      "(2,1,(2,)) --> (1,2,(0, 0))\n",
      "(2,1,(2,)) --> (1,2,(1, 1))\n",
      "(1,2,(0, 0)) --> (0,3,(0, 0, 0))\n",
      "(1,2,(0, 0)) --> (1,1,(0,))\n",
      "(1,2,(0, 0)) --> (1,1,(1,))\n",
      "(1,2,(2, 0)) --> (1,1,(1,))\n",
      "(1,2,(1, 1)) --> (1,1,(1,))\n"
     ]
    }
   ],
   "source": [
    "from wp_recursion.dependency import DependencyGraph\n",
    "\n",
    "graph = DependencyGraph()\n",
    "graph.build(2, 1, (2,))\n",
    "graph.print_graph()\n",
    "\n",
    "# Store dot representation\n",
    "dot_string = graph.to_dot()\n",
    "with open(\"deps.dot\", \"w\") as f:\n",
    "    f.write(dot_string)"
   ]
  },
  {
   "cell_type": "code",
   "execution_count": 1,
   "id": "6be2113c",
   "metadata": {},
   "outputs": [
    {
     "ename": "FileNotFoundError",
     "evalue": "[Errno 2] No such file or directory: 'data/wp_rx.pkl'",
     "output_type": "error",
     "traceback": [
      "\u001b[1;31m---------------------------------------------------------------------------\u001b[0m",
      "\u001b[1;31mFileNotFoundError\u001b[0m                         Traceback (most recent call last)",
      "Cell \u001b[1;32mIn[1], line 3\u001b[0m\n\u001b[0;32m      1\u001b[0m \u001b[38;5;28;01mimport\u001b[39;00m\u001b[38;5;250m \u001b[39m\u001b[38;5;21;01mpickle\u001b[39;00m\n\u001b[1;32m----> 3\u001b[0m \u001b[38;5;28;01mwith\u001b[39;00m \u001b[38;5;28mopen\u001b[39m(\u001b[38;5;124m\"\u001b[39m\u001b[38;5;124mdata/wp_rx.pkl\u001b[39m\u001b[38;5;124m\"\u001b[39m, \u001b[38;5;124m\"\u001b[39m\u001b[38;5;124mrb\u001b[39m\u001b[38;5;124m\"\u001b[39m) \u001b[38;5;28;01mas\u001b[39;00m f:\n\u001b[0;32m      4\u001b[0m     rx \u001b[38;5;241m=\u001b[39m pickle\u001b[38;5;241m.\u001b[39mload(f)\n\u001b[0;32m      6\u001b[0m \u001b[38;5;28mprint\u001b[39m(\u001b[38;5;124mf\u001b[39m\u001b[38;5;124m\"\u001b[39m\u001b[38;5;124mTotal entries: \u001b[39m\u001b[38;5;132;01m{\u001b[39;00m\u001b[38;5;28mlen\u001b[39m(rx)\u001b[38;5;132;01m}\u001b[39;00m\u001b[38;5;124m\"\u001b[39m)\n",
      "File \u001b[1;32mc:\\Users\\sergi\\anaconda3\\Lib\\site-packages\\IPython\\core\\interactiveshell.py:324\u001b[0m, in \u001b[0;36m_modified_open\u001b[1;34m(file, *args, **kwargs)\u001b[0m\n\u001b[0;32m    317\u001b[0m \u001b[38;5;28;01mif\u001b[39;00m file \u001b[38;5;129;01min\u001b[39;00m {\u001b[38;5;241m0\u001b[39m, \u001b[38;5;241m1\u001b[39m, \u001b[38;5;241m2\u001b[39m}:\n\u001b[0;32m    318\u001b[0m     \u001b[38;5;28;01mraise\u001b[39;00m \u001b[38;5;167;01mValueError\u001b[39;00m(\n\u001b[0;32m    319\u001b[0m         \u001b[38;5;124mf\u001b[39m\u001b[38;5;124m\"\u001b[39m\u001b[38;5;124mIPython won\u001b[39m\u001b[38;5;124m'\u001b[39m\u001b[38;5;124mt let you open fd=\u001b[39m\u001b[38;5;132;01m{\u001b[39;00mfile\u001b[38;5;132;01m}\u001b[39;00m\u001b[38;5;124m by default \u001b[39m\u001b[38;5;124m\"\u001b[39m\n\u001b[0;32m    320\u001b[0m         \u001b[38;5;124m\"\u001b[39m\u001b[38;5;124mas it is likely to crash IPython. If you know what you are doing, \u001b[39m\u001b[38;5;124m\"\u001b[39m\n\u001b[0;32m    321\u001b[0m         \u001b[38;5;124m\"\u001b[39m\u001b[38;5;124myou can use builtins\u001b[39m\u001b[38;5;124m'\u001b[39m\u001b[38;5;124m open.\u001b[39m\u001b[38;5;124m\"\u001b[39m\n\u001b[0;32m    322\u001b[0m     )\n\u001b[1;32m--> 324\u001b[0m \u001b[38;5;28;01mreturn\u001b[39;00m io_open(file, \u001b[38;5;241m*\u001b[39margs, \u001b[38;5;241m*\u001b[39m\u001b[38;5;241m*\u001b[39mkwargs)\n",
      "\u001b[1;31mFileNotFoundError\u001b[0m: [Errno 2] No such file or directory: 'data/wp_rx.pkl'"
     ]
    }
   ],
   "source": [
    "import pickle\n",
    "\n",
    "with open(\"data/wp_rx.pkl\", \"rb\") as f:\n",
    "    rx = pickle.load(f)\n",
    "\n",
    "print(f\"Total entries: {len(rx)}\")\n",
    "print(f\"Unique keys: {len(set(rx.keys()))}\")\n"
   ]
  },
  {
   "cell_type": "code",
   "execution_count": null,
   "id": "bf64f94a",
   "metadata": {},
   "outputs": [],
   "source": []
  }
 ],
 "metadata": {
  "kernelspec": {
   "display_name": "base",
   "language": "python",
   "name": "python3"
  },
  "language_info": {
   "codemirror_mode": {
    "name": "ipython",
    "version": 3
   },
   "file_extension": ".py",
   "mimetype": "text/x-python",
   "name": "python",
   "nbconvert_exporter": "python",
   "pygments_lexer": "ipython3",
   "version": "3.12.3"
  }
 },
 "nbformat": 4,
 "nbformat_minor": 5
}
