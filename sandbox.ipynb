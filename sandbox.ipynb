{
 "cells": [
  {
   "cell_type": "code",
   "execution_count": 23,
   "id": "183b2cc7",
   "metadata": {},
   "outputs": [
    {
     "name": "stdout",
     "output_type": "stream",
     "text": [
      "Total entries: 193672\n",
      "Unique keys: 193672\n"
     ]
    }
   ],
   "source": [
    "import pickle\n",
    "\n",
    "with open(\"data/wp_rx.pkl\", \"rb\") as f:\n",
    "    rx = pickle.load(f)\n",
    "\n",
    "print(f\"Total entries: {len(rx)}\")\n",
    "print(f\"Unique keys: {len(set(rx.keys()))}\")\n"
   ]
  },
  {
   "cell_type": "code",
   "execution_count": 24,
   "id": "8d787681",
   "metadata": {},
   "outputs": [
    {
     "name": "stdout",
     "output_type": "stream",
     "text": [
      "(0, 3, (0, 0, 0)) 1\n",
      "(0, 4, (0, 0, 0, 0)) 2\n",
      "(0, 4, (1, 0, 0, 0)) 12\n",
      "(1, 1, (0,)) 1/24\n",
      "(1, 1, (1,)) 1/2\n",
      "(0, 5, (0, 0, 0, 0, 0)) 100/3\n",
      "(0, 5, (1, 0, 0, 0, 0)) 72\n",
      "(0, 5, (1, 1, 0, 0, 0)) 288\n",
      "(0, 5, (2, 0, 0, 0, 0)) 240\n",
      "(1, 2, (0, 0)) 43/36\n"
     ]
    }
   ],
   "source": [
    "for k, v in list(rx.items())[:10]:\n",
    "    print(k, v)\n"
   ]
  },
  {
   "cell_type": "code",
   "execution_count": 26,
   "id": "28f908a5",
   "metadata": {},
   "outputs": [],
   "source": [
    "bad_keys = [k for k in rx if not isinstance(k, tuple) or len(k) != 3 or not isinstance(k[2], tuple)]\n",
    "if bad_keys:\n",
    "    print(f\"Found {len(bad_keys)} malformed keys\")\n"
   ]
  },
  {
   "cell_type": "code",
   "execution_count": 27,
   "id": "469b4952",
   "metadata": {},
   "outputs": [
    {
     "name": "stdout",
     "output_type": "stream",
     "text": [
      "Non-fraction values: 0\n"
     ]
    }
   ],
   "source": [
    "from fractions import Fraction\n",
    "non_fraction = [v for v in rx.values() if not isinstance(v, Fraction)]\n",
    "print(f\"Non-fraction values: {len(non_fraction)}\")\n"
   ]
  },
  {
   "cell_type": "code",
   "execution_count": null,
   "id": "0e1fe8e8",
   "metadata": {},
   "outputs": [],
   "source": []
  }
 ],
 "metadata": {
  "kernelspec": {
   "display_name": "base",
   "language": "python",
   "name": "python3"
  },
  "language_info": {
   "codemirror_mode": {
    "name": "ipython",
    "version": 3
   },
   "file_extension": ".py",
   "mimetype": "text/x-python",
   "name": "python",
   "nbconvert_exporter": "python",
   "pygments_lexer": "ipython3",
   "version": "3.12.3"
  }
 },
 "nbformat": 4,
 "nbformat_minor": 5
}
