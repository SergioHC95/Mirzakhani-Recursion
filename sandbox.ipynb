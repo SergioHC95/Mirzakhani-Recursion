{
 "cells": [
  {
   "cell_type": "code",
   "execution_count": null,
   "id": "183b2cc7",
   "metadata": {},
   "outputs": [
    {
     "name": "stdout",
     "output_type": "stream",
     "text": [
      "Total entries: 33030\n",
      "Unique keys: 33030\n"
     ]
    }
   ],
   "source": [
    "import pickle\n",
    "\n",
    "with open(\"data/wp_rx.pkl\", \"rb\") as f:\n",
    "    rx = pickle.load(f)\n",
    "\n",
    "print(f\"Total entries: {len(rx)}\")\n",
    "print(f\"Unique keys: {len(set(rx.keys()))}\")\n"
   ]
  },
  {
   "cell_type": "code",
   "execution_count": 2,
   "id": "c651a445",
   "metadata": {},
   "outputs": [
    {
     "data": {
      "text/plain": [
       "Fraction(1166763, 128)"
      ]
     },
     "execution_count": 2,
     "metadata": {},
     "output_type": "execute_result"
    }
   ],
   "source": [
    "rx[(2, 5, (2, 0, 0, 0, 0))]"
   ]
  },
  {
   "cell_type": "code",
   "execution_count": 3,
   "id": "8d787681",
   "metadata": {},
   "outputs": [
    {
     "name": "stdout",
     "output_type": "stream",
     "text": [
      "(0, 3, (0, 0, 0)) 1\n",
      "(0, 4, (0, 0, 0, 0)) 1\n",
      "(0, 4, (1, 0, 0, 0)) 12\n",
      "(1, 1, (0,)) 1/24\n",
      "(1, 1, (1,)) 1/2\n",
      "(0, 5, (0, 0, 0, 0, 0)) 5/2\n",
      "(0, 5, (1, 0, 0, 0, 0)) 36\n",
      "(0, 5, (1, 1, 0, 0, 0)) 288\n",
      "(0, 5, (2, 0, 0, 0, 0)) 240\n",
      "(1, 2, (0, 0)) 1/16\n"
     ]
    }
   ],
   "source": [
    "for k, v in list(rx.items())[:10]:\n",
    "    print(k, v)\n"
   ]
  },
  {
   "cell_type": "code",
   "execution_count": 4,
   "id": "28f908a5",
   "metadata": {},
   "outputs": [],
   "source": [
    "bad_keys = [k for k in rx if not isinstance(k, tuple) or len(k) != 3 or not isinstance(k[2], tuple)]\n",
    "if bad_keys:\n",
    "    print(f\"Found {len(bad_keys)} malformed keys\")\n"
   ]
  },
  {
   "cell_type": "code",
   "execution_count": 5,
   "id": "469b4952",
   "metadata": {},
   "outputs": [
    {
     "name": "stdout",
     "output_type": "stream",
     "text": [
      "Non-fraction values: 0\n"
     ]
    }
   ],
   "source": [
    "from fractions import Fraction\n",
    "non_fraction = [v for v in rx.values() if not isinstance(v, Fraction)]\n",
    "print(f\"Non-fraction values: {len(non_fraction)}\")\n"
   ]
  },
  {
   "cell_type": "code",
   "execution_count": 4,
   "id": "0e1fe8e8",
   "metadata": {},
   "outputs": [
    {
     "name": "stdout",
     "output_type": "stream",
     "text": [
      "23:04:03 | INFO | wp.compute | Computing (g=0, n=4): 2 α’s (mode=missing, workers=seq)\n",
      "23:04:03 | INFO | wp.compute | ✅ Final checkpoint saved for (g=0, n=4)\n",
      "23:04:03 | INFO | wp.compute | Computing (g=0, n=5): 4 α’s (mode=missing, workers=seq)\n",
      "23:04:03 | INFO | wp.compute | ✅ Final checkpoint saved for (g=0, n=5)\n",
      "23:04:03 | INFO | wp.compute | Computing (g=1, n=2): 4 α’s (mode=missing, workers=seq)\n",
      "23:04:03 | INFO | wp.compute | ✅ Final checkpoint saved for (g=1, n=2)\n",
      "23:04:03 | INFO | wp.compute | Computing (g=0, n=6): 7 α’s (mode=missing, workers=seq)\n",
      "23:04:03 | INFO | wp.compute | ✅ Final checkpoint saved for (g=0, n=6)\n",
      "23:04:03 | INFO | wp.compute | Computing (g=1, n=3): 7 α’s (mode=missing, workers=seq)\n",
      "23:04:03 | INFO | wp.compute | ✅ Final checkpoint saved for (g=1, n=3)\n",
      "23:04:03 | INFO | wp.compute | Computing (g=0, n=7): 12 α’s (mode=missing, workers=seq)\n",
      "23:04:03 | INFO | wp.compute | ✅ Final checkpoint saved for (g=0, n=7)\n",
      "23:04:03 | INFO | wp.compute | Computing (g=1, n=4): 12 α’s (mode=missing, workers=seq)\n",
      "23:04:03 | INFO | wp.compute | ✅ Final checkpoint saved for (g=1, n=4)\n",
      "23:04:03 | INFO | wp.compute | Computing (g=2, n=1): 5 α’s (mode=missing, workers=seq)\n",
      "23:04:03 | INFO | wp.compute | ✅ Final checkpoint saved for (g=2, n=1)\n",
      "23:04:03 | INFO | wp.compute | Computing (g=0, n=8): 19 α’s (mode=missing, workers=seq)\n",
      "23:04:03 | INFO | wp.compute | ✅ Final checkpoint saved for (g=0, n=8)\n",
      "23:04:03 | INFO | wp.compute | Computing (g=1, n=5): 19 α’s (mode=missing, workers=seq)\n",
      "23:04:03 | INFO | wp.compute | ✅ Final checkpoint saved for (g=1, n=5)\n",
      "23:04:03 | INFO | wp.compute | Computing (g=2, n=2): 12 α’s (mode=missing, workers=seq)\n",
      "23:04:03 | INFO | wp.compute | ✅ Final checkpoint saved for (g=2, n=2)\n",
      "23:04:03 | INFO | wp.compute | Computing (g=0, n=9): 30 α’s (mode=missing, workers=seq)\n",
      "23:04:04 | INFO | wp.compute | ✅ Final checkpoint saved for (g=0, n=9)\n",
      "23:04:04 | INFO | wp.compute | Computing (g=1, n=6): 30 α’s (mode=missing, workers=seq)\n",
      "23:04:04 | INFO | wp.compute | ✅ Final checkpoint saved for (g=1, n=6)\n",
      "23:04:04 | INFO | wp.compute | Computing (g=2, n=3): 23 α’s (mode=missing, workers=seq)\n",
      "23:04:04 | INFO | wp.compute | ✅ Final checkpoint saved for (g=2, n=3)\n",
      "23:04:04 | INFO | wp.compute | Computing (g=0, n=10): 45 α’s (mode=missing, workers=seq)\n",
      "23:04:04 | INFO | wp.compute | ✅ Final checkpoint saved for (g=0, n=10)\n",
      "23:04:04 | INFO | wp.compute | Computing (g=1, n=7): 45 α’s (mode=missing, workers=seq)\n",
      "23:04:04 | INFO | wp.compute | ✅ Final checkpoint saved for (g=1, n=7)\n",
      "23:04:04 | INFO | wp.compute | Computing (g=2, n=4): 38 α’s (mode=missing, workers=seq)\n",
      "23:04:04 | INFO | wp.compute | ✅ Final checkpoint saved for (g=2, n=4)\n",
      "23:04:04 | INFO | wp.compute | Computing (g=3, n=1): 8 α’s (mode=missing, workers=seq)\n",
      "23:04:04 | INFO | wp.compute | ✅ Final checkpoint saved for (g=3, n=1)\n",
      "23:04:04 | INFO | wp.compute | Computing (g=0, n=11): 67 α’s (mode=missing, workers=seq)\n",
      "23:04:04 | INFO | wp.compute | ✅ Final checkpoint saved for (g=0, n=11)\n",
      "23:04:04 | INFO | wp.compute | Computing (g=1, n=8): 67 α’s (mode=missing, workers=seq)\n",
      "23:04:04 | INFO | wp.compute | ✅ Final checkpoint saved for (g=1, n=8)\n",
      "23:04:04 | INFO | wp.compute | Computing (g=2, n=5): 60 α’s (mode=missing, workers=seq)\n",
      "23:04:05 | INFO | wp.compute | ✅ Final checkpoint saved for (g=2, n=5)\n",
      "23:04:05 | INFO | wp.compute | Computing (g=3, n=2): 25 α’s (mode=missing, workers=seq)\n",
      "23:04:05 | INFO | wp.compute | ✅ Final checkpoint saved for (g=3, n=2)\n",
      "23:04:05 | INFO | wp.compute | Computing (g=0, n=12): 97 α’s (mode=missing, workers=seq)\n",
      "23:04:06 | INFO | wp.compute | ✅ Final checkpoint saved for (g=0, n=12)\n",
      "23:04:06 | INFO | wp.compute | Computing (g=1, n=9): 97 α’s (mode=missing, workers=seq)\n",
      "23:04:07 | INFO | wp.compute | ✅ Final checkpoint saved for (g=1, n=9)\n",
      "23:04:07 | INFO | wp.compute | Computing (g=2, n=6): 90 α’s (mode=missing, workers=seq)\n",
      "23:04:07 | INFO | wp.compute | ✅ Final checkpoint saved for (g=2, n=6)\n",
      "23:04:07 | INFO | wp.compute | Computing (g=3, n=3): 53 α’s (mode=missing, workers=seq)\n",
      "23:04:07 | INFO | wp.compute | ✅ Final checkpoint saved for (g=3, n=3)\n",
      "23:04:07 | INFO | wp.compute | Computing (g=0, n=13): 139 α’s (mode=missing, workers=seq)\n",
      "23:04:13 | INFO | wp.compute | ✅ Final checkpoint saved for (g=0, n=13)\n",
      "23:04:13 | INFO | wp.compute | Computing (g=1, n=10): 139 α’s (mode=missing, workers=seq)\n",
      "23:04:14 | INFO | wp.compute | ✅ Final checkpoint saved for (g=1, n=10)\n",
      "23:04:14 | INFO | wp.compute | Computing (g=2, n=7): 132 α’s (mode=missing, workers=seq)\n",
      "23:04:14 | INFO | wp.compute | ✅ Final checkpoint saved for (g=2, n=7)\n",
      "23:04:14 | INFO | wp.compute | Computing (g=3, n=4): 94 α’s (mode=missing, workers=seq)\n",
      "23:04:14 | INFO | wp.compute | ✅ Final checkpoint saved for (g=3, n=4)\n",
      "23:04:14 | INFO | wp.compute | Computing (g=4, n=1): 11 α’s (mode=missing, workers=seq)\n",
      "23:04:14 | INFO | wp.compute | ✅ Final checkpoint saved for (g=4, n=1)\n",
      "Testing g=0, n=3, D=0 on 1 α’s\n",
      "✅ Match for α=(0, 0, 0): 1\n",
      "Testing g=0, n=4, D=1 on 2 α’s\n",
      "✅ Match for α=(1, 0, 0, 0): 1\n",
      "✅ Match for α=(0, 0, 0, 0): 1\n",
      "Testing g=0, n=5, D=2 on 4 α’s\n",
      "✅ Match for α=(2, 0, 0, 0, 0): 1\n",
      "✅ Match for α=(1, 1, 0, 0, 0): 2\n",
      "✅ Match for α=(1, 0, 0, 0, 0): 3\n",
      "✅ Match for α=(0, 0, 0, 0, 0): 5\n",
      "Testing g=0, n=6, D=3 on 7 α’s\n",
      "✅ Match for α=(3, 0, 0, 0, 0, 0): 1\n",
      "✅ Match for α=(2, 1, 0, 0, 0, 0): 3\n",
      "✅ Match for α=(2, 0, 0, 0, 0, 0): 6\n",
      "✅ Match for α=(1, 1, 1, 0, 0, 0): 6\n",
      "✅ Match for α=(1, 1, 0, 0, 0, 0): 12\n",
      "✅ Match for α=(1, 0, 0, 0, 0, 0): 26\n",
      "✅ Match for α=(0, 0, 0, 0, 0, 0): 61\n",
      "Testing g=0, n=7, D=4 on 12 α’s\n",
      "✅ Match for α=(4, 0, 0, 0, 0, 0, 0): 1\n",
      "✅ Match for α=(3, 1, 0, 0, 0, 0, 0): 4\n",
      "✅ Match for α=(3, 0, 0, 0, 0, 0, 0): 10\n",
      "✅ Match for α=(2, 2, 0, 0, 0, 0, 0): 6\n",
      "✅ Match for α=(2, 1, 1, 0, 0, 0, 0): 12\n",
      "✅ Match for α=(2, 1, 0, 0, 0, 0, 0): 30\n",
      "✅ Match for α=(2, 0, 0, 0, 0, 0, 0): 80\n",
      "✅ Match for α=(1, 1, 1, 1, 0, 0, 0): 24\n",
      "✅ Match for α=(1, 1, 1, 0, 0, 0, 0): 60\n",
      "✅ Match for α=(1, 1, 0, 0, 0, 0, 0): 160\n",
      "✅ Match for α=(1, 0, 0, 0, 0, 0, 0): 455\n",
      "✅ Match for α=(0, 0, 0, 0, 0, 0, 0): 1379\n",
      "Testing g=0, n=8, D=5 on 19 α’s\n",
      "✅ Match for α=(5, 0, 0, 0, 0, 0, 0, 0): 1\n",
      "✅ Match for α=(4, 1, 0, 0, 0, 0, 0, 0): 5\n",
      "✅ Match for α=(4, 0, 0, 0, 0, 0, 0, 0): 15\n",
      "✅ Match for α=(3, 2, 0, 0, 0, 0, 0, 0): 10\n",
      "✅ Match for α=(3, 1, 1, 0, 0, 0, 0, 0): 20\n",
      "✅ Match for α=(3, 1, 0, 0, 0, 0, 0, 0): 60\n",
      "✅ Match for α=(3, 0, 0, 0, 0, 0, 0, 0): 190\n",
      "✅ Match for α=(2, 2, 1, 0, 0, 0, 0, 0): 30\n",
      "✅ Match for α=(2, 2, 0, 0, 0, 0, 0, 0): 90\n",
      "✅ Match for α=(2, 1, 1, 1, 0, 0, 0, 0): 60\n",
      "✅ Match for α=(2, 1, 1, 0, 0, 0, 0, 0): 180\n",
      "✅ Match for α=(2, 1, 0, 0, 0, 0, 0, 0): 570\n",
      "✅ Match for α=(2, 0, 0, 0, 0, 0, 0, 0): 1905\n",
      "✅ Match for α=(1, 1, 1, 1, 1, 0, 0, 0): 120\n",
      "✅ Match for α=(1, 1, 1, 1, 0, 0, 0, 0): 360\n",
      "✅ Match for α=(1, 1, 1, 0, 0, 0, 0, 0): 1140\n",
      "✅ Match for α=(1, 1, 0, 0, 0, 0, 0, 0): 3810\n",
      "✅ Match for α=(1, 0, 0, 0, 0, 0, 0, 0): 13434\n",
      "✅ Match for α=(0, 0, 0, 0, 0, 0, 0, 0): 49946\n",
      "Testing g=0, n=9, D=6 on 30 α’s\n",
      "✅ Match for α=(6, 0, 0, 0, 0, 0, 0, 0, 0): 1\n",
      "✅ Match for α=(5, 1, 0, 0, 0, 0, 0, 0, 0): 6\n",
      "✅ Match for α=(5, 0, 0, 0, 0, 0, 0, 0, 0): 21\n",
      "✅ Match for α=(4, 2, 0, 0, 0, 0, 0, 0, 0): 15\n",
      "✅ Match for α=(4, 1, 1, 0, 0, 0, 0, 0, 0): 30\n",
      "✅ Match for α=(4, 1, 0, 0, 0, 0, 0, 0, 0): 105\n",
      "✅ Match for α=(4, 0, 0, 0, 0, 0, 0, 0, 0): 385\n",
      "✅ Match for α=(3, 3, 0, 0, 0, 0, 0, 0, 0): 20\n",
      "✅ Match for α=(3, 2, 1, 0, 0, 0, 0, 0, 0): 60\n",
      "✅ Match for α=(3, 2, 0, 0, 0, 0, 0, 0, 0): 210\n",
      "✅ Match for α=(3, 1, 1, 1, 0, 0, 0, 0, 0): 120\n",
      "✅ Match for α=(3, 1, 1, 0, 0, 0, 0, 0, 0): 420\n",
      "✅ Match for α=(3, 1, 0, 0, 0, 0, 0, 0, 0): 1540\n",
      "✅ Match for α=(3, 0, 0, 0, 0, 0, 0, 0, 0): 5915\n",
      "✅ Match for α=(2, 2, 2, 0, 0, 0, 0, 0, 0): 90\n",
      "✅ Match for α=(2, 2, 1, 1, 0, 0, 0, 0, 0): 180\n",
      "✅ Match for α=(2, 2, 1, 0, 0, 0, 0, 0, 0): 630\n",
      "✅ Match for α=(2, 2, 0, 0, 0, 0, 0, 0, 0): 2310\n",
      "✅ Match for α=(2, 1, 1, 1, 1, 0, 0, 0, 0): 360\n",
      "✅ Match for α=(2, 1, 1, 1, 0, 0, 0, 0, 0): 1260\n",
      "✅ Match for α=(2, 1, 1, 0, 0, 0, 0, 0, 0): 4620\n",
      "✅ Match for α=(2, 1, 0, 0, 0, 0, 0, 0, 0): 17745\n",
      "✅ Match for α=(2, 0, 0, 0, 0, 0, 0, 0, 0): 71379\n",
      "✅ Match for α=(1, 1, 1, 1, 1, 1, 0, 0, 0): 720\n",
      "✅ Match for α=(1, 1, 1, 1, 1, 0, 0, 0, 0): 2520\n",
      "✅ Match for α=(1, 1, 1, 1, 0, 0, 0, 0, 0): 9240\n",
      "✅ Match for α=(1, 1, 1, 0, 0, 0, 0, 0, 0): 35490\n",
      "✅ Match for α=(1, 1, 0, 0, 0, 0, 0, 0, 0): 142758\n",
      "✅ Match for α=(1, 0, 0, 0, 0, 0, 0, 0, 0): 601167\n",
      "✅ Match for α=(0, 0, 0, 0, 0, 0, 0, 0, 0): 2648967\n"
     ]
    }
   ],
   "source": [
    "from wp.compute import iterate, alpha_bs\n",
    "from wp.normalization import x_from_rx\n",
    "from wp.genus0 import genus0_x\n",
    "\n",
    "rx = iterate(dmax=10, cache_path=\"data/wp_rx.pkl\", max_workers=1)\n",
    "\n",
    "for n in range(3, 10):\n",
    "    g = 0\n",
    "    D = 3*g - 3 + n\n",
    "    allalpha = alpha_bs(n, D)\n",
    "    print(f\"Testing g=0, n={n}, D={D} on {len(allalpha)} α’s\")\n",
    "    for alpha in allalpha:\n",
    "        alpha_can = tuple(sorted(alpha, reverse=True))\n",
    "        key = (g, n, alpha_can)\n",
    "        assert key in rx, f\"Missing key: {key}\"\n",
    "        x_rec = x_from_rx(g, n, alpha_can, rx[key])\n",
    "        x_exact = genus0_x(n, alpha_can)\n",
    "        if x_rec != x_exact:\n",
    "            print(f\"❌ Mismatch for α={alpha_can}: rec={x_rec}, exact={x_exact}\")\n",
    "        else:\n",
    "            print(f\"✅ Match for α={alpha_can}: {x_rec}\")\n"
   ]
  },
  {
   "cell_type": "code",
   "execution_count": 17,
   "id": "94c447ff",
   "metadata": {},
   "outputs": [],
   "source": [
    "from wp.recursion import A_k\n",
    "from fractions import Fraction\n",
    "assert A_k(0) == Fraction(4,1)\n",
    "assert A_k(1) == Fraction(1,3)\n",
    "assert A_k(2) == Fraction(7,360)"
   ]
  },
  {
   "cell_type": "code",
   "execution_count": 6,
   "id": "e2a86b78",
   "metadata": {},
   "outputs": [
    {
     "data": {
      "text/plain": [
       "[([], [0, 1, 2, 3]),\n",
       " ([0], [1, 2, 3]),\n",
       " ([1], [0, 2, 3]),\n",
       " ([2], [0, 1, 3]),\n",
       " ([3], [0, 1, 2]),\n",
       " ([0, 1], [2, 3]),\n",
       " ([0, 2], [1, 3]),\n",
       " ([0, 3], [1, 2])]"
      ]
     },
     "execution_count": 6,
     "metadata": {},
     "output_type": "execute_result"
    }
   ],
   "source": [
    "from wp.partitions import split_index_sets\n",
    "\n",
    "split_index_sets(4)"
   ]
  },
  {
   "cell_type": "code",
   "execution_count": 13,
   "id": "b3c76ce8",
   "metadata": {},
   "outputs": [
    {
     "name": "stdout",
     "output_type": "stream",
     "text": [
      "The autoreload extension is already loaded. To reload it, use:\n",
      "  %reload_ext autoreload\n"
     ]
    }
   ],
   "source": [
    "%load_ext autoreload\n",
    "%autoreload 2"
   ]
  },
  {
   "cell_type": "code",
   "execution_count": 14,
   "id": "25cf4f0f",
   "metadata": {},
   "outputs": [
    {
     "name": "stdout",
     "output_type": "stream",
     "text": [
      "7*X[0,3,(0, 0, 0)]*X[2,3,(0, 0, 0)]/15 + 31*X[0,3,(0, 0, 0)]*X[2,3,(1, 0, 0)]/1260 + 127*X[0,3,(0, 0, 0)]*X[2,3,(2, 0, 0)]/100800 + 73*X[0,3,(0, 0, 0)]*X[2,3,(3, 0, 0)]/1140480 + 1414477*X[0,3,(0, 0, 0)]*X[2,3,(4, 0, 0)]/435891456000 + 8191*X[0,3,(0, 0, 0)]*X[2,3,(5, 0, 0)]/49816166400 + 16931177*X[0,3,(0, 0, 0)]*X[2,3,(6, 0, 0)]/2032499589120000 + 14*X[0,4,(0, 0, 0, 0)]*X[2,2,(0, 0)]/45 + 31*X[0,4,(0, 0, 0, 0)]*X[2,2,(1, 0)]/1890 + 127*X[0,4,(0, 0, 0, 0)]*X[2,2,(2, 0)]/151200 + 73*X[0,4,(0, 0, 0, 0)]*X[2,2,(3, 0)]/1710720 + 1414477*X[0,4,(0, 0, 0, 0)]*X[2,2,(4, 0)]/653837184000 + 8191*X[0,4,(0, 0, 0, 0)]*X[2,2,(5, 0)]/74724249600 + 31*X[0,4,(1, 0, 0, 0)]*X[2,2,(0, 0)]/1890 + 127*X[0,4,(1, 0, 0, 0)]*X[2,2,(1, 0)]/151200 + 73*X[0,4,(1, 0, 0, 0)]*X[2,2,(2, 0)]/1710720 + 1414477*X[0,4,(1, 0, 0, 0)]*X[2,2,(3, 0)]/653837184000 + 8191*X[0,4,(1, 0, 0, 0)]*X[2,2,(4, 0)]/74724249600 + 16931177*X[0,4,(1, 0, 0, 0)]*X[2,2,(5, 0)]/3048749383680000 + 7*X[0,5,(0, 0, 0, 0, 0)]*X[2,1,(0,)]/90 + 31*X[0,5,(0, 0, 0, 0, 0)]*X[2,1,(1,)]/7560 + 127*X[0,5,(0, 0, 0, 0, 0)]*X[2,1,(2,)]/604800 + 73*X[0,5,(0, 0, 0, 0, 0)]*X[2,1,(3,)]/6842880 + 1414477*X[0,5,(0, 0, 0, 0, 0)]*X[2,1,(4,)]/2615348736000 + 31*X[0,5,(1, 0, 0, 0, 0)]*X[2,1,(0,)]/7560 + 127*X[0,5,(1, 0, 0, 0, 0)]*X[2,1,(1,)]/604800 + 73*X[0,5,(1, 0, 0, 0, 0)]*X[2,1,(2,)]/6842880 + 1414477*X[0,5,(1, 0, 0, 0, 0)]*X[2,1,(3,)]/2615348736000 + 8191*X[0,5,(1, 0, 0, 0, 0)]*X[2,1,(4,)]/298896998400 + 127*X[0,5,(2, 0, 0, 0, 0)]*X[2,1,(0,)]/604800 + 73*X[0,5,(2, 0, 0, 0, 0)]*X[2,1,(1,)]/6842880 + 1414477*X[0,5,(2, 0, 0, 0, 0)]*X[2,1,(2,)]/2615348736000 + 8191*X[0,5,(2, 0, 0, 0, 0)]*X[2,1,(3,)]/298896998400 + 16931177*X[0,5,(2, 0, 0, 0, 0)]*X[2,1,(4,)]/12194997534720000 + 7*X[1,1,(0,)]*X[1,5,(0, 0, 0, 0, 0)]/90 + 31*X[1,1,(0,)]*X[1,5,(1, 0, 0, 0, 0)]/7560 + 127*X[1,1,(0,)]*X[1,5,(2, 0, 0, 0, 0)]/604800 + 73*X[1,1,(0,)]*X[1,5,(3, 0, 0, 0, 0)]/6842880 + 1414477*X[1,1,(0,)]*X[1,5,(4, 0, 0, 0, 0)]/2615348736000 + 8191*X[1,1,(0,)]*X[1,5,(5, 0, 0, 0, 0)]/298896998400 + 31*X[1,1,(1,)]*X[1,5,(0, 0, 0, 0, 0)]/7560 + 127*X[1,1,(1,)]*X[1,5,(1, 0, 0, 0, 0)]/604800 + 73*X[1,1,(1,)]*X[1,5,(2, 0, 0, 0, 0)]/6842880 + 1414477*X[1,1,(1,)]*X[1,5,(3, 0, 0, 0, 0)]/2615348736000 + 8191*X[1,1,(1,)]*X[1,5,(4, 0, 0, 0, 0)]/298896998400 + 16931177*X[1,1,(1,)]*X[1,5,(5, 0, 0, 0, 0)]/12194997534720000 + 14*X[1,2,(0, 0)]*X[1,4,(0, 0, 0, 0)]/45 + 31*X[1,2,(0, 0)]*X[1,4,(1, 0, 0, 0)]/1890 + 127*X[1,2,(0, 0)]*X[1,4,(2, 0, 0, 0)]/151200 + 73*X[1,2,(0, 0)]*X[1,4,(3, 0, 0, 0)]/1710720 + 1414477*X[1,2,(0, 0)]*X[1,4,(4, 0, 0, 0)]/653837184000 + 31*X[1,2,(1, 0)]*X[1,4,(0, 0, 0, 0)]/1890 + 127*X[1,2,(1, 0)]*X[1,4,(1, 0, 0, 0)]/151200 + 73*X[1,2,(1, 0)]*X[1,4,(2, 0, 0, 0)]/1710720 + 1414477*X[1,2,(1, 0)]*X[1,4,(3, 0, 0, 0)]/653837184000 + 8191*X[1,2,(1, 0)]*X[1,4,(4, 0, 0, 0)]/74724249600 + 127*X[1,2,(2, 0)]*X[1,4,(0, 0, 0, 0)]/151200 + 73*X[1,2,(2, 0)]*X[1,4,(1, 0, 0, 0)]/1710720 + 1414477*X[1,2,(2, 0)]*X[1,4,(2, 0, 0, 0)]/653837184000 + 8191*X[1,2,(2, 0)]*X[1,4,(3, 0, 0, 0)]/74724249600 + 16931177*X[1,2,(2, 0)]*X[1,4,(4, 0, 0, 0)]/3048749383680000 + 7*X[1,3,(0, 0, 0)]**2/30 + 31*X[1,3,(0, 0, 0)]*X[1,3,(1, 0, 0)]/1260 + 127*X[1,3,(0, 0, 0)]*X[1,3,(2, 0, 0)]/100800 + 73*X[1,3,(0, 0, 0)]*X[1,3,(3, 0, 0)]/1140480 + 127*X[1,3,(1, 0, 0)]**2/201600 + 73*X[1,3,(1, 0, 0)]*X[1,3,(2, 0, 0)]/1140480 + 1414477*X[1,3,(1, 0, 0)]*X[1,3,(3, 0, 0)]/435891456000 + 1414477*X[1,3,(2, 0, 0)]**2/871782912000 + 8191*X[1,3,(2, 0, 0)]*X[1,3,(3, 0, 0)]/49816166400 + 16931177*X[1,3,(3, 0, 0)]**2/4064999178240000 + 7*X[1,6,(0, 0, 0, 0, 0, 0)]/180 + 31*X[1,6,(1, 0, 0, 0, 0, 0)]/7560 + 127*X[1,6,(1, 1, 0, 0, 0, 0)]/1209600 + 127*X[1,6,(2, 0, 0, 0, 0, 0)]/604800 + 73*X[1,6,(2, 1, 0, 0, 0, 0)]/6842880 + 1414477*X[1,6,(2, 2, 0, 0, 0, 0)]/5230697472000 + 73*X[1,6,(3, 0, 0, 0, 0, 0)]/6842880 + 1414477*X[1,6,(3, 1, 0, 0, 0, 0)]/2615348736000 + 8191*X[1,6,(3, 2, 0, 0, 0, 0)]/298896998400 + 16931177*X[1,6,(3, 3, 0, 0, 0, 0)]/24389995069440000 + 1414477*X[1,6,(4, 0, 0, 0, 0, 0)]/2615348736000 + 8191*X[1,6,(4, 1, 0, 0, 0, 0)]/298896998400 + 16931177*X[1,6,(4, 2, 0, 0, 0, 0)]/12194997534720000 + 8191*X[1,6,(5, 0, 0, 0, 0, 0)]/298896998400 + 16931177*X[1,6,(5, 1, 0, 0, 0, 0)]/12194997534720000 + 16931177*X[1,6,(6, 0, 0, 0, 0, 0)]/12194997534720000 + 4*X[2,4,(0, 0, 0, 0)]/3 + 7*X[2,4,(1, 0, 0, 0)]/90 + 31*X[2,4,(2, 0, 0, 0)]/7560 + 127*X[2,4,(3, 0, 0, 0)]/604800 + 73*X[2,4,(4, 0, 0, 0)]/6842880 + 1414477*X[2,4,(5, 0, 0, 0)]/2615348736000 + 8191*X[2,4,(6, 0, 0, 0)]/298896998400 + 16931177*X[2,4,(7, 0, 0, 0)]/12194997534720000\n"
     ]
    }
   ],
   "source": [
    "from wp.recursion import rx_rec_opt_symbolic\n",
    "\n",
    "def rx_lookup(g, n, alpha):\n",
    "    return f\"RX[{g},{n},{alpha}]\"\n",
    "\n",
    "expr = rx_rec_opt_symbolic(2, 5, (0, 0, 0, 0, 0))\n",
    "print(expr)"
   ]
  },
  {
   "cell_type": "code",
   "execution_count": null,
   "id": "ea1e4cbe",
   "metadata": {},
   "outputs": [],
   "source": []
  }
 ],
 "metadata": {
  "kernelspec": {
   "display_name": "base",
   "language": "python",
   "name": "python3"
  },
  "language_info": {
   "codemirror_mode": {
    "name": "ipython",
    "version": 3
   },
   "file_extension": ".py",
   "mimetype": "text/x-python",
   "name": "python",
   "nbconvert_exporter": "python",
   "pygments_lexer": "ipython3",
   "version": "3.12.3"
  }
 },
 "nbformat": 4,
 "nbformat_minor": 5
}
